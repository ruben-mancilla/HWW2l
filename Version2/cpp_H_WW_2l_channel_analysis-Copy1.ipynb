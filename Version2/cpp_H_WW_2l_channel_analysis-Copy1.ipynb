{
 "cells": [
  {
   "cell_type": "markdown",
   "metadata": {},
   "source": [
    "<CENTER><h1>Análisis del Bosón de Higgs del experimento ATLAS en el canal de decaimiento $H \\rightarrow WW^{*}\\rightarrow e\\nu\\mu\\nu$     a      $\\sqrt{s}=13TeV$</h1></CENTER>"
   ]
  },
  {
   "cell_type": "markdown",
   "metadata": {},
   "source": [
    "-----------\n",
    "<p>Vamos a incluir unas bibliotecas estándar de C++ y ROOT</p>"
   ]
  },
  {
   "cell_type": "code",
   "execution_count": 1,
   "metadata": {},
   "outputs": [],
   "source": [
    "#include <iostream>\n",
    "#include <string> \n",
    "#include <vector>\n",
    "#include <stdio.h> \n",
    "#include <typeinfo>\n",
    "using namespace std;"
   ]
  },
  {
   "cell_type": "markdown",
   "metadata": {},
   "source": [
    "---------\n",
    "<p>Vamos a incluir cabeceras y funciones creadas para proposito de este análisis</p>"
   ]
  },
  {
   "cell_type": "code",
   "execution_count": 2,
   "metadata": {},
   "outputs": [],
   "source": [
    "#include \"HWWAnalysis.h\"\n",
    "#include \"HWWAnalysisHistograms-Copy1.h\"\n",
    "#include \"../main_HWWAnalysis.C\"\n",
    "#include \"../array_sample.C\""
   ]
  },
  {
   "cell_type": "markdown",
   "metadata": {},
   "source": [
    "----------\n",
    "<h4>Which option should I run?</h4>\n",
    "<p>Optioms are</p>\n",
    "<p>0=run all data and Mc one after another</p>\n",
    "<p>1=run data only</p>\n",
    "<p>2=run MC sample only</p>\n"
   ]
  },
  {
   "cell_type": "code",
   "execution_count": 3,
   "metadata": {},
   "outputs": [
    {
     "name": "stdout",
     "output_type": "stream",
     "text": [
      "option: 0\n"
     ]
    }
   ],
   "source": [
    "int option=0;\n",
    "cout<<\"option: \"<<option<<endl;"
   ]
  },
  {
   "cell_type": "markdown",
   "metadata": {},
   "source": [
    "---------\n",
    "<h4>Should use PROOF? (will make things faster)</h4>\n",
    "<p>Options are:</p>\n",
    "<p>0=NO</p>\n",
    "<p>1=YES</p>"
   ]
  },
  {
   "cell_type": "code",
   "execution_count": 4,
   "metadata": {},
   "outputs": [
    {
     "name": "stdout",
     "output_type": "stream",
     "text": [
      "Option: 0\n"
     ]
    }
   ],
   "source": [
    "int parallel=0;\n",
    "cout<<\"Option: \"<<parallel<<endl;"
   ]
  },
  {
   "cell_type": "markdown",
   "metadata": {},
   "source": [
    "-----------\n",
    "<h4>Selection of Events</h4>"
   ]
  },
  {
   "cell_type": "code",
   "execution_count": 5,
   "metadata": {},
   "outputs": [
    {
     "name": "stderr",
     "output_type": "stream",
     "text": [
      "IncrementalExecutor::executeFunction: symbol '_ZN11HWWAnalysis7ProcessEP6TChain7TString' unresolved while linking function '_GLOBAL__sub_I_cling_module_76'!\n",
      "You are probably missing the definition of HWWAnalysis::Process(TChain*, TString)\n",
      "Maybe you need to load the corresponding shared library?\n"
     ]
    }
   ],
   "source": [
    "vector<string> sample;\n",
    "array_samples(sample,option); //function that is in charge of assigning the names of the analyzes to be studied "
   ]
  },
  {
   "cell_type": "markdown",
   "metadata": {},
   "source": [
    "<h4>Funtion Procces</h4>"
   ]
  },
  {
   "cell_type": "code",
   "execution_count": 6,
   "metadata": {},
   "outputs": [],
   "source": [
    "Bool_t  HWWAnalysis::Process(TChain* tree, TString s){\n",
    "    \n",
    "    fchain = tree;\n",
    "    fReader.SetTree(fchain);\n",
    "    Long64_t nentries = fReader.GetEntries(1);\n",
    "    cout<< \"Muestra a Analizar: \"<< s << \" # Events: \" <<nentries << endl;\n",
    "    \n",
    "    while (fReader.Next()){\n",
    "            \n",
    "        //Scale factors\n",
    "        Float_t scaleFactor = (*scaleFactor_ELE)*(*scaleFactor_MUON)*(*scaleFactor_LepTRIGGER)*(*scaleFactor_PILEUP);\n",
    "            \n",
    "        //MC weight\n",
    "        Float_t m_mcWeight = *mcWeight;\n",
    "            \n",
    "        // read input option\n",
    "        TString foption = s; //Replacement of option=GetOption();\n",
    "        if (foption.Contains(\"single\")){\n",
    "            m_mcWeight = (*mcWeight/TMath::Abs(*mcWeight)); // set to 1 or -1 single top MCs\n",
    "        }\n",
    "            \n",
    "        //Total Weight\n",
    "        Float_t weight = scaleFactor*m_mcWeight;\n",
    "            \n",
    "        // Make difference between data y MC\n",
    "        if (foption.Contains(\"data\")) { weight = 1.; }\n",
    "            \n",
    "        //Preselection cut for electron/muon trigger\n",
    "            if (*trigE || *trigM){\n",
    "                                  \n",
    "                // Preselection of good Leptons\n",
    "                int goodlep_index[2];\n",
    "                int goodlep_n = 0;\n",
    "                int lep_index = 0;\n",
    "                 \n",
    "                for (unsigned int j=0; j<*lep_n; j++){\n",
    "                     \n",
    "                    TLorentzVector leptemp;\n",
    "                    leptemp.SetPtEtaPhiE(lep_pt[j]/1000., lep_eta[j], lep_phi[j], lep_E[j]/1000.);\n",
    "                     \n",
    "                    // Lepton is Tight----boolean indicating whether lepton satisfies tight ID reconstruction criteria\n",
    "                    if (lep_isTightID->at(j)){\n",
    "                         \n",
    "                        // standard lepton isolation requirement => strict isolation\n",
    "                        if (lep_pt[j]>15000. && (lep_ptcone30[j]/lep_pt[j]<0.1) && (lep_etcone20[j]/lep_pt[j]<0.1)){\n",
    "                             \n",
    "                            // electron selection\n",
    "                            if (lep_type[j]==11 && TMath::Abs(lep_eta[j])<2.47 && (TMath::Abs(lep_eta[j])<1.37 || TMath::Abs(lep_eta[j])>1.52)){\n",
    "                                if (TMath::Abs(lep_trackd0pvunbiased[j])/lep_tracksigd0pvunbiased[j]<5 && TMath::Abs(lep_z0[j]*TMath::Sin(leptemp.Theta()))<0.5){\n",
    "                                    goodlep_n = goodlep_n + 1;\n",
    "                                    goodlep_index[lep_index] = j;\n",
    "                                    lep_index++;   \n",
    "                                }  \n",
    "                            }\n",
    "                             \n",
    "                            // muon selection\n",
    "                            if (lep_type[j]==13 && TMath::Abs(lep_eta[j])<2.5){\n",
    "                                if (TMath::Abs(lep_trackd0pvunbiased[j])/lep_tracksigd0pvunbiased[j]<3 && TMath::Abs(lep_z0[j]*TMath::Sin(leptemp.Theta()))<0.5){\n",
    "                                    goodlep_n = goodlep_n + 1;\n",
    "                                    goodlep_index[lep_index] = j;\n",
    "                                    lep_index++;\n",
    "                                }\n",
    "                            }\n",
    "                        }        \n",
    "                    }//End_Tight    \n",
    "                }\n",
    "                 \n",
    "                //Exactly two good leptons, leading lepton with pT > 22 GeV and the subleading lepton with pT > 15 GeV\n",
    "                if (goodlep_n==2){\n",
    "    \n",
    "                    int goodlep1_index = goodlep_index[0];\n",
    "                    int goodlep2_index = goodlep_index[1];\n",
    "                     \n",
    "                    if (lep_pt[goodlep1_index]>22000.){\n",
    "                        \n",
    "                        //two different-flavour opposite-sign leptons\n",
    "                        if (lep_type[goodlep1_index] != lep_type[goodlep2_index]){\n",
    "                            if (lep_charge[goodlep1_index]*lep_charge[goodlep2_index]<0){\n",
    "                                 \n",
    "                                //TLorentzVector Definitions\n",
    "                                TLorentzVector Lepton_1  = TLorentzVector();\n",
    "                                TLorentzVector Lepton_2  = TLorentzVector();\n",
    "                                TLorentzVector      MeT  = TLorentzVector();\n",
    "                                 \n",
    "                                Lepton_1.SetPtEtaPhiE(lep_pt[goodlep1_index]/1000., lep_eta[goodlep1_index], lep_phi[goodlep1_index],lep_E[goodlep1_index]/1000.);\n",
    "                                Lepton_2.SetPtEtaPhiE(lep_pt[goodlep2_index]/1000., lep_eta[goodlep2_index], lep_phi[goodlep2_index],lep_E[goodlep2_index]/1000.);\n",
    "                                MeT.SetPtEtaPhiE(*met_et/1000., 0, *met_phi , *met_et/1000.);\n",
    "                                 \n",
    "                                TLorentzVector Lepton_12 = TLorentzVector();\n",
    "                                Lepton_12 = Lepton_1 + Lepton_2;\n",
    "                            \n",
    "                                float mLL = Lepton_12.Mag(); //The invariant mass of the two leptons\n",
    "\n",
    "                                float ptLL = Lepton_12.Pt(); //Transverse momentum of the dilepton system\n",
    "                            \n",
    "                                Float_t MET = *met_et/1000.; // Missing transverse momentum\n",
    "                            \n",
    "                                //Azimuthal angle between the two leptons\n",
    "                                float dPhi_LL = TMath::Abs(lep_phi[goodlep1_index]-lep_phi[goodlep2_index]);\n",
    "                                dPhi_LL = dPhi_LL < TMath::Pi() ? dPhi_LL : 2*TMath::Pi() - dPhi_LL;\n",
    "                            \n",
    "                                //Azimuthal angle between E_T^miss and the dilepton system\n",
    "                                float dPhiLLmet = TMath::Abs(Lepton_12.Phi() - MeT.Phi());\n",
    "                                dPhiLLmet    = dPhiLLmet < TMath::Pi() ? dPhiLLmet : 2*TMath::Pi() - dPhiLLmet;\n",
    "                            \n",
    "                                //dilepton transverse mass\n",
    "                                float mt = sqrt(2*Lepton_12.Pt()*MeT.Et()*(1-cos(Lepton_12.DeltaPhi(MeT))));\n",
    "                            \n",
    "                                // Preselection of good jets\n",
    "                                int goodjet_n = 0;\n",
    "                                int goodbjet_n = 0;\n",
    "                            \n",
    "                                int goodjet_index[*jet_n];\n",
    "                                int jet_index = 0;\n",
    "                            \n",
    "                                int goodbjet_index[*jet_n];\n",
    "                                int bjet_index = 0;\n",
    "                                 \n",
    "                                for (unsigned int j=0; j<*jet_n; j++){\n",
    "                                    \n",
    "                                    if (jet_pt[j]>20000. && TMath::Abs(jet_eta[j])<2.5){\n",
    "                                        \n",
    "                                        //JVT cleaning\n",
    "                                        bool jvt_pass = true;\n",
    "                                        if (jet_pt[j]<60000. && TMath::Abs(jet_eta[j])<2.4 && jet_jvt[j]<0.59) {jvt_pass=false;}\n",
    "                                        \n",
    "                                        if (jvt_pass){\n",
    "                                            \n",
    "                                            // cut on 85% WP\n",
    "                                            if (jet_MV2c10[j] > 0.1758475){\n",
    "                                                goodbjet_n++;\n",
    "                                                goodbjet_index[bjet_index] = j;\n",
    "                                                bjet_index++;\n",
    "                                            }\n",
    "                                        \n",
    "                                            if (jet_pt[j]>30000.){\n",
    "                                                goodjet_n++;\n",
    "                                                goodjet_index[jet_index] = j;\n",
    "                                                jet_index++;\n",
    "                                            } \n",
    "                                        }  \n",
    "                                    }  \n",
    "                                }\n",
    "                                // fill histogram before any cut\n",
    "                                double names_of_global_variable_pre[]={mLL, ptLL, dPhi_LL, dPhiLLmet, MET, mt, (double)goodjet_n,\n",
    "                                                                       (double)goodbjet_n};\n",
    "                                TString histonames_of_global_variable_pre[]={\"histI_mLL\", \"histI_ptLL\", \"histI_dPhi_LL\", \"histI_dPhiLLmet\",\n",
    "                                                                             \"histI_etmiss\", \"histI_mt\", \"histI_n_jets\", \"histI_n_bjets\"};\n",
    "                                int length_global_pre = arraysize(names_of_global_variable_pre);\n",
    "                                for (unsigned int j=0; j<length_global_pre; j++ ){\n",
    "                                    FillHistogramsGlobal(names_of_global_variable_pre[j], weight , histonames_of_global_variable_pre[j]);\n",
    "                                }\n",
    "                                 \n",
    "                                //  remove low mass meson resonances and DY events; ggF regions, at least 1 jet\n",
    "                                if ( mLL > 10 && goodjet_n <= 1 && MET > 30){\n",
    "                                    \n",
    "                                    if (mLL < 55){\n",
    "                                        \n",
    "                                        if (ptLL > 30){\n",
    "                                            \n",
    "                                            if (dPhi_LL < 1.8){\n",
    "                                                \n",
    "                                                if (dPhiLLmet > TMath::Pi()/2){\n",
    "                                                    \n",
    "                                                    if (goodbjet_n ==0){\n",
    "                                                        \n",
    "                                                        //Start to fill histograms : definitions of x-axis variables\n",
    "                                                    \n",
    "                                                        double names_of_global_variable[]={mLL, ptLL, dPhi_LL, dPhiLLmet, MET, mt, (double)goodjet_n,\n",
    "                                                                                           (double)goodbjet_n};\n",
    "                                                        double names_of_leadlep_variable[]={Lepton_1.Pt(), Lepton_1.Eta(), Lepton_1.E(), Lepton_1.Phi(),\n",
    "                                                                                            (double)lep_charge[goodlep1_index], (double)lep_type[goodlep1_index]};\n",
    "                                                        double names_of_subleadlep_variable[]={Lepton_2.Pt(), Lepton_2.Eta(), Lepton_2.E(), Lepton_2.Phi(),\n",
    "                                                                                               (double)lep_charge[goodlep2_index], (double)lep_type[goodlep2_index]};\n",
    "                                                    \n",
    "                                                        //Start to fill histograms : definitions of histogram names\n",
    "                                                    \n",
    "                                                        TString histonames_of_global_variable[]={\"hist_mLL\", \"hist_ptLL\", \"hist_dPhi_LL\", \"hist_dPhiLLmet\",\n",
    "                                                                                                 \"hist_etmiss\", \"hist_mt\", \"hist_n_jets\", \"hist_n_bjets\"};\n",
    "                                                        TString histonames_of_leadlep_variable[]={\"hist_leadleptpt\", \"hist_leadlepteta\", \"hist_leadleptE\",\n",
    "                                                                                                  \"hist_leadleptphi\", \"hist_leadleptch\", \"hist_leadleptID\"};\n",
    "                                                        TString histonames_of_subleadlep_variable[]={\"hist_subleadleptpt\", \"hist_subleadlepteta\", \"hist_subleadleptE\",\n",
    "                                                                                                     \"hist_subleadleptphi\", \"hist_subleadleptch\", \"hist_subleadleptID\"};\n",
    "                                                        int length_global = arraysize(names_of_global_variable);\n",
    "                                                        int length_leadlep = arraysize(names_of_leadlep_variable);\n",
    "                                                        int length_subleadlep = arraysize(names_of_subleadlep_variable);\n",
    "                                                        \n",
    "                                                        // Fill histograms\n",
    "                                                    \n",
    "                                                        for (unsigned int j=0; j<length_global; j++){\n",
    "                                                            FillHistogramsGlobal(names_of_global_variable[j], weight , histonames_of_global_variable[j]);\n",
    "                                                        }\n",
    "                                                    \n",
    "                                                        for (unsigned int j=0; j<length_leadlep; j++){\n",
    "                                                            FillHistogramsLeadlept(names_of_leadlep_variable[j], weight , histonames_of_leadlep_variable[j]);\n",
    "                                                        }\n",
    "                                                    \n",
    "                                                        for (unsigned int j=0; j<length_subleadlep; j++){\n",
    "                                                            FillHistogramsSubleadlept(names_of_subleadlep_variable[j], weight, histonames_of_subleadlep_variable[j]);\n",
    "                                                        }  \n",
    "                                                    }   \n",
    "                                                }   \n",
    "                                            }  \n",
    "                                        }\n",
    "                                    }\n",
    "                                } \n",
    "                             }      \n",
    "                         }\n",
    "                     }\n",
    "                 }     \n",
    "             }    \n",
    "        }\n",
    "        return true;\n",
    "}"
   ]
  },
  {
   "cell_type": "markdown",
   "metadata": {},
   "source": [
    "-----------\n",
    "<h3>Physical Analysis</h3>"
   ]
  },
  {
   "cell_type": "code",
   "execution_count": 7,
   "metadata": {},
   "outputs": [
    {
     "name": "stderr",
     "output_type": "stream",
     "text": [
      "Warning in <TClass::Init>: no dictionary for class ROOT::TIOFeatures is available\n"
     ]
    },
    {
     "name": "stdout",
     "output_type": "stream",
     "text": [
      "Muestra a Analizar: data_A # Events: 668152\n",
      "Writting with name option: data_A\n",
      "Muestra a Analizar: data_B # Events: 2459370\n",
      "Writting with name option: data_B\n",
      "Muestra a Analizar: data_C # Events: 3587872\n",
      "Writting with name option: data_C\n",
      "Muestra a Analizar: data_D # Events: 5490396\n",
      "Writting with name option: data_D\n",
      "Muestra a Analizar: ZqqZll # Events: 1403146\n",
      "Writting with name option: ZqqZll\n",
      "Muestra a Analizar: WqqZll # Events: 1316619\n",
      "Writting with name option: WqqZll\n",
      "Muestra a Analizar: WpqqWmlv # Events: 13375\n",
      "Writting with name option: WpqqWmlv\n",
      "Muestra a Analizar: WplvWmqq # Events: 14245\n",
      "Writting with name option: WplvWmqq\n",
      "Muestra a Analizar: WlvZqq # Events: 28199\n",
      "Writting with name option: WlvZqq\n",
      "Muestra a Analizar: llll # Events: 4266124\n",
      "Writting with name option: llll\n",
      "Muestra a Analizar: lllv # Events: 3791795\n",
      "Writting with name option: lllv\n",
      "Muestra a Analizar: llvv # Events: 3409043\n",
      "Writting with name option: llvv\n",
      "Muestra a Analizar: lvvv # Events: 11789\n",
      "Writting with name option: lvvv\n",
      "Muestra a Analizar: single_top_tchan # Events: 36846\n",
      "Writting with name option: single_top_tchan\n",
      "Muestra a Analizar: single_antitop_tchan # Events: 38933\n",
      "Writting with name option: single_antitop_tchan\n",
      "Muestra a Analizar: single_top_schan # Events: 7086\n",
      "Writting with name option: single_top_schan\n",
      "Muestra a Analizar: single_antitop_schan # Events: 7513\n",
      "Writting with name option: single_antitop_schan\n",
      "Muestra a Analizar: single_top_wtchan # Events: 165554\n",
      "Writting with name option: single_top_wtchan\n",
      "Muestra a Analizar: single_antitop_wtchan # Events: 167834\n",
      "Writting with name option: single_antitop_wtchan\n",
      "Muestra a Analizar: Zee # Events: 21848524\n",
      "Writting with name option: Zee\n",
      "Muestra a Analizar: Zmumu # Events: 22122816\n",
      "Writting with name option: Zmumu\n",
      "Muestra a Analizar: Ztautau # Events: 182180\n",
      "Writting with name option: Ztautau\n",
      "Muestra a Analizar: ttbar_lep # Events: 2910539\n",
      "Writting with name option: ttbar_lep\n",
      "Muestra a Analizar: Wplusenu # Events: 41502\n",
      "Writting with name option: Wplusenu\n",
      "Muestra a Analizar: Wplusmunu # Events: 35184\n",
      "Writting with name option: Wplusmunu\n",
      "Muestra a Analizar: Wplustaunu # Events: 1774\n",
      "Writting with name option: Wplustaunu\n",
      "Muestra a Analizar: Wminusenu # Events: 31893\n",
      "Writting with name option: Wminusenu\n",
      "Muestra a Analizar: Wminusmunu # Events: 30307\n",
      "Writting with name option: Wminusmunu\n",
      "Muestra a Analizar: Wminustaunu # Events: 1409\n",
      "Writting with name option: Wminustaunu\n",
      "Muestra a Analizar: ggH125_WW2lep # Events: 628685\n",
      "Writting with name option: ggH125_WW2lep\n",
      "Muestra a Analizar: VBFH125_WW2lep # Events: 425131\n",
      "Writting with name option: VBFH125_WW2lep\n"
     ]
    }
   ],
   "source": [
    "HWWAnalysis Acess;\n",
    "//We define the histograms\n",
    "acess.define_histograms();\n",
    "TChain *f = new TChain(\"mini\");\n",
    "for (unsigned int i=0;i<sample.size();i++){ \n",
    "    TString s = sample[i];\n",
    "    f = main_HWWAnalysis(parallel,s);\n",
    "    //Analysis\n",
    "    Acess.Process(f,s);\n",
    "    // Analysis results are saved\n",
    "    Acess.Terminate(s);\n",
    "    //reset the histograms\n",
    "    Acess.reset_histograms();\n",
    "    // Reset fchain\n",
    "    f->Reset();\n",
    "}"
   ]
  }
 ],
 "metadata": {
  "kernelspec": {
   "display_name": "ROOT C++",
   "language": "c++",
   "name": "root"
  },
  "language_info": {
   "codemirror_mode": "text/x-c++src",
   "file_extension": ".C",
   "mimetype": " text/x-c++src",
   "name": "c++"
  }
 },
 "nbformat": 4,
 "nbformat_minor": 2
}
