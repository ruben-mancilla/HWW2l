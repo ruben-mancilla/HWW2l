{
 "cells": [
  {
   "cell_type": "markdown",
   "metadata": {},
   "source": [
    "<p align=\"center\">\n",
    "    <img srt=\"ATLAS-Logo-Ref-RGB.png\" title=\"Experiment ATLAS\">\n",
    "</p>"
   ]
  },
  {
   "cell_type": "markdown",
   "metadata": {},
   "source": [
    "<p align=\"center\">\n",
    " <a href=\"http://opendata.atlas.cern/release/2020/documentation/notebooks/intro.html\" class=\"icons\">\n",
    "     <img src=\"ATLAS-Logo-Ref-RGB.png\" title=\"ATLAS logo\" style=\"width:60%\"></a>\n",
    "</p>"
   ]
  },
  {
   "cell_type": "markdown",
   "metadata": {},
   "source": [
    "<CENTER><h1>Análisis del Bosón de Higgs del experimento ATLAS en el canal de decaimiento $H \\rightarrow WW^{*}\\rightarrow e\\nu\\mu\\nu$     a      $\\sqrt{s}=13TeV$</h1></CENTER>"
   ]
  },
  {
   "cell_type": "markdown",
   "metadata": {},
   "source": [
    "-----------\n",
    "<p>Vamos a incluir unas bibliotecas estándar de C++ y ROOT</p>"
   ]
  },
  {
   "cell_type": "code",
   "execution_count": 1,
   "metadata": {},
   "outputs": [],
   "source": [
    "#include <iostream>\n",
    "#include <string> \n",
    "#include <vector>\n",
    "#include <stdio.h> \n",
    "#include <typeinfo>\n",
    "#include <sys/stat.h>\n",
    "using namespace std;"
   ]
  },
  {
   "cell_type": "markdown",
   "metadata": {},
   "source": [
    "---------\n",
    "<p>Vamos a incluir cabeceras y funciones creadas para proposito de este análisis</p>"
   ]
  },
  {
   "cell_type": "code",
   "execution_count": 2,
   "metadata": {},
   "outputs": [],
   "source": [
    "#include \"Analysis/HWWAnalysisHistograms.h\"\n",
    "#include \"Analysis/make_HWW_objects.h\"\n",
    "#include \"Analysis/main_HWWAnalysis.C\"\n",
    "#include \"Analysis/array_sample.C\""
   ]
  },
  {
   "cell_type": "markdown",
   "metadata": {},
   "source": [
    "------------------\n",
    "Se crean los folders que van a guardar los resultados del análisis y los plots finales"
   ]
  },
  {
   "cell_type": "code",
   "execution_count": 3,
   "metadata": {},
   "outputs": [],
   "source": [
    "if (fileExists(\"Analysis/Output_HWWAnalysis\") != true){\n",
    "    mkdir(\"Analysis/Output_HWWAnalysis\",S_IRWXU);\n",
    "}\n",
    "if (fileExists(\"Plotting/histograms\") != true){\n",
    "    mkdir(\"Plotting/histograms\",S_IRWXU);\n",
    "}"
   ]
  },
  {
   "cell_type": "markdown",
   "metadata": {},
   "source": [
    "----------\n",
    "<h4>Which option should I run?</h4>\n",
    "<p>Optioms are</p>\n",
    "<p>0=run all data and Mc one after another</p>\n",
    "<p>1=run data only</p>\n",
    "<p>2, 3, 4, 5, 6, 7 = run MC sample only</p>\n"
   ]
  },
  {
   "cell_type": "code",
   "execution_count": 4,
   "metadata": {},
   "outputs": [
    {
     "name": "stdout",
     "output_type": "stream",
     "text": [
      "option: 1\n"
     ]
    }
   ],
   "source": [
    "int option=1;\n",
    "cout<<\"option: \"<<option<<endl;"
   ]
  },
  {
   "cell_type": "markdown",
   "metadata": {},
   "source": [
    "---------\n",
    "<h4>Should use PROOF? (will make things faster)</h4>\n",
    "<p>Options are:</p>\n",
    "<p>0=NO</p>\n",
    "<p>1=YES</p>"
   ]
  },
  {
   "cell_type": "code",
   "execution_count": 5,
   "metadata": {},
   "outputs": [
    {
     "name": "stdout",
     "output_type": "stream",
     "text": [
      "Option: 1\n"
     ]
    }
   ],
   "source": [
    "int parallel=1;\n",
    "cout<<\"Option: \"<<parallel<<endl;"
   ]
  },
  {
   "cell_type": "markdown",
   "metadata": {},
   "source": [
    "-----------\n",
    "<h4>Selection of samples</h4>"
   ]
  },
  {
   "cell_type": "code",
   "execution_count": 6,
   "metadata": {},
   "outputs": [],
   "source": [
    "vector<string> sample;\n",
    "array_samples(sample,option); //function that is in charge of assigning the names of the analyzes to be studied"
   ]
  },
  {
   "cell_type": "markdown",
   "metadata": {},
   "source": [
    "-----------\n",
    "<h3>Physical Analysis</h3>"
   ]
  },
  {
   "cell_type": "code",
   "execution_count": 7,
   "metadata": {
    "scrolled": true
   },
   "outputs": [
    {
     "name": "stdout",
     "output_type": "stream",
     "text": [
      " +++ Starting PROOF-Lite with 2 workers +++\n"
     ]
    },
    {
     "name": "stderr",
     "output_type": "stream",
     "text": [
      "Opening connections to workers: OK (2 workers)                 \n",
      "Setting up worker servers: 1 out of 2 (50 %)\r"
     ]
    },
    {
     "name": "stdout",
     "output_type": "stream",
     "text": [
      "PROOF set to parallel mode (2 workers)\n"
     ]
    },
    {
     "name": "stderr",
     "output_type": "stream",
     "text": [
      "Setting up worker servers: OK (2 workers)                 \n"
     ]
    },
    {
     "name": "stdout",
     "output_type": "stream",
     "text": [
      "Muestra a Analizar: dataA # Events: 668152\n",
      "Writting with name option: dataA\n",
      "Muestra a Analizar: dataB # Events: 2459370\n",
      "Writting with name option: dataB\n",
      "Muestra a Analizar: dataC # Events: 3587872\n",
      "Writting with name option: dataC\n",
      "Muestra a Analizar: dataD # Events: 5490396\n",
      "Writting with name option: dataD\n"
     ]
    }
   ],
   "source": [
    "//We define the histograms\n",
    "define_histograms();\n",
    "\n",
    "for (unsigned int i=0;i<sample.size();i++){ \n",
    "    \n",
    "    fchain = main_HWWAnalysis(parallel,sample[i]);\n",
    "    Init(fchain);\n",
    "    Long64_t nentries = fReader.GetEntries(1);\n",
    "    cout<< \"Muestra a Analizar: \"<< sample[i] << \" # Events: \" <<nentries << endl;\n",
    "    \n",
    "    while (fReader.Next()){\n",
    "        \n",
    "        // read input option\n",
    "        TString foption = sample[i]; //Replacement of option=GetOption();\n",
    "        \n",
    "        //Scale factors\n",
    "        Float_t scaleFactor = (*scaleFactor_ELE)*(*scaleFactor_MUON)*(*scaleFactor_LepTRIGGER)*(*scaleFactor_PILEUP);\n",
    "        \n",
    "        //MC weight\n",
    "        Float_t m_mcWeight = *mcWeight;\n",
    "        \n",
    "        //Total Weight\n",
    "        Float_t weight;\n",
    "        \n",
    "        if (foption.Contains(\"single\")){\n",
    "            m_mcWeight = (*mcWeight/TMath::Abs(*mcWeight)); // set to 1 or -1 single top MCs\n",
    "            weight = scaleFactor*m_mcWeight;\n",
    "        } else if (foption.Contains(\"data\")){\n",
    "            weight = 1;    // Make difference between data y MC\n",
    "        } else {\n",
    "           weight = scaleFactor*m_mcWeight; \n",
    "        }\n",
    "         \n",
    "        //Preselection cut for electron/muon trigger\n",
    "        if (*trigE || *trigM){\n",
    "            \n",
    "            // Preselection of good Leptons\n",
    "            int goodlep_index[2];\n",
    "            int goodlep_n = 0;\n",
    "            int lep_index = 0;\n",
    "            \n",
    "            for (unsigned int j=0; j<*lep_n; j++){\n",
    "                \n",
    "                TLorentzVector leptemp;\n",
    "                leptemp.SetPtEtaPhiE(lep_pt[j]/1000., lep_eta[j], lep_phi[j], lep_E[j]/1000.);\n",
    "                \n",
    "                // Lepton is Tight----boolean indicating whether lepton satisfies tight ID reconstruction criteria\n",
    "                if (lep_isTightID->at(j)){\n",
    "                    \n",
    "                    // standard lepton isolation requirement => strict isolation\n",
    "                    if ((lep_pt[j]>15000.) && (lep_ptcone30[j]/lep_pt[j]<0.1) && (lep_etcone20[j]/lep_pt[j]<0.1)){\n",
    "                       \n",
    "                        // electron selection\n",
    "                        if ((lep_type[j]==11) && (TMath::Abs(lep_eta[j])<2.47) && ((TMath::Abs(lep_eta[j])<1.37) || (TMath::Abs(lep_eta[j])>1.52))){\n",
    "                            if ((TMath::Abs(lep_trackd0pvunbiased[j])/lep_tracksigd0pvunbiased[j]<5) && (TMath::Abs(lep_z0[j]*TMath::Sin(leptemp.Theta()))<0.5)){\n",
    "                                goodlep_n = goodlep_n + 1;\n",
    "                                goodlep_index[lep_index] = j;\n",
    "                                lep_index++;\n",
    "                            }\n",
    "                        }\n",
    "                        // muon selection\n",
    "                        if ((lep_type[j]==13) && (TMath::Abs(lep_eta[j])<2.5)){\n",
    "                            if ((TMath::Abs(lep_trackd0pvunbiased[j])/lep_tracksigd0pvunbiased[j]<3) && (TMath::Abs(lep_z0[j]*TMath::Sin(leptemp.Theta()))<0.5)){\n",
    "                                goodlep_n = goodlep_n + 1;\n",
    "                                goodlep_index[lep_index] = j;\n",
    "                                lep_index++;\n",
    "                            }\n",
    "                        }\n",
    "                    }\n",
    "                }//End_Tight\n",
    "                \n",
    "            }\n",
    "            \n",
    "            //Exactly two good leptons, leading lepton with pT > 22 GeV and the subleading lepton with pT > 15 GeV\n",
    "            if (goodlep_n==2){\n",
    "                       \n",
    "                int goodlep1_index = goodlep_index[0];\n",
    "                int goodlep2_index = goodlep_index[1];\n",
    "                \n",
    "                if (lep_pt[goodlep1_index]>22000.){\n",
    "                    \n",
    "                    //two different-flavour opposite-sign leptons\n",
    "                    if (lep_type[goodlep1_index] != lep_type[goodlep2_index]){\n",
    "                        if (lep_charge[goodlep1_index]*lep_charge[goodlep2_index]<0){\n",
    "                            \n",
    "                            //TLorentzVector Definitions\n",
    "                            TLorentzVector Lepton_1  = TLorentzVector();\n",
    "                            TLorentzVector Lepton_2  = TLorentzVector();\n",
    "                            TLorentzVector      MeT  = TLorentzVector();\n",
    "  \n",
    "                            Lepton_1.SetPtEtaPhiE(lep_pt[goodlep1_index]/1000., lep_eta[goodlep1_index], lep_phi[goodlep1_index],lep_E[goodlep1_index]/1000.);\n",
    "                            Lepton_2.SetPtEtaPhiE(lep_pt[goodlep2_index]/1000., lep_eta[goodlep2_index], lep_phi[goodlep2_index],lep_E[goodlep2_index]/1000.);\n",
    "                            MeT.SetPtEtaPhiE(*met_et/1000., 0, *met_phi , *met_et/1000.);\n",
    "                            \n",
    "                            TLorentzVector Lepton_12 = TLorentzVector();\n",
    "                            Lepton_12 = Lepton_1 + Lepton_2;\n",
    "                            \n",
    "                            float mLL = Lepton_12.Mag(); //The invariant mass of the two leptons\n",
    "\n",
    "                            float ptLL = Lepton_12.Pt(); //Transverse momentum of the dilepton system\n",
    "                            \n",
    "                            Float_t MET = *met_et/1000.; // Missing transverse momentum\n",
    "                            \n",
    "                            //Azimuthal angle between the two leptons\n",
    "                            float dPhi_LL = TMath::Abs(lep_phi[goodlep1_index]-lep_phi[goodlep2_index]);\n",
    "                            dPhi_LL = dPhi_LL < TMath::Pi() ? dPhi_LL : 2*TMath::Pi() - dPhi_LL;\n",
    "                            \n",
    "                            //Azimuthal angle between E_T^miss and the dilepton system\n",
    "                            float dPhiLLmet = TMath::Abs(Lepton_12.Phi() - MeT.Phi());\n",
    "                            dPhiLLmet    = dPhiLLmet < TMath::Pi() ? dPhiLLmet : 2*TMath::Pi() - dPhiLLmet;\n",
    "                            \n",
    "                            //dilepton transverse mass\n",
    "                            float mt = sqrt(2*Lepton_12.Pt()*MeT.Et()*(1-cos(Lepton_12.DeltaPhi(MeT))));\n",
    "                            \n",
    "                            // Preselection of good jets\n",
    "                            int goodjet_n = 0;\n",
    "                            int goodbjet_n = 0;\n",
    "                            \n",
    "                            int goodjet_index[*jet_n];\n",
    "                            int jet_index = 0;\n",
    "                            \n",
    "                            int goodbjet_index[*jet_n];\n",
    "                            int bjet_index = 0;\n",
    "                            \n",
    "                            for (unsigned int j=0; j<*jet_n; j++){\n",
    "                                \n",
    "                                if ((jet_pt[j]>20000.) && (TMath::Abs(jet_eta[j])<2.5)){\n",
    "                                    \n",
    "                                    //JVT cleaning\n",
    "                                    bool jvt_pass = true;\n",
    "                                    \n",
    "                                    if ((jet_pt[j]<60000.) && (TMath::Abs(jet_eta[j])<2.4) && (jet_jvt[j]<0.59)) {jvt_pass=false;}\n",
    "                                    \n",
    "                                    if (jvt_pass){\n",
    "                                        \n",
    "                                        // cut on 85% WP\n",
    "                                        if (jet_MV2c10[j] > 0.1758475){\n",
    "                                            goodbjet_n++;\n",
    "                                            goodbjet_index[bjet_index] = j;\n",
    "                                            bjet_index++;\n",
    "                                        }\n",
    "                                        \n",
    "                                        if (jet_pt[j]>30000.){\n",
    "                                            goodjet_n++;\n",
    "                                            goodjet_index[jet_index] = j;\n",
    "                                            jet_index++;\n",
    "                                        }\n",
    "                                    }\n",
    "                                    \n",
    "                                }\n",
    "                            }\n",
    "                            \n",
    "                            // fill histogram before any cut\n",
    "                            double names_of_global_variable_pre[]={mLL, ptLL, dPhi_LL, dPhiLLmet, MET, mt, (double)goodjet_n,\n",
    "                                                                   (double)goodbjet_n};\n",
    "                            TString histonames_of_global_variable_pre[]={\"histI_mLL\", \"histI_ptLL\", \"histI_dPhi_LL\", \"histI_dPhiLLmet\",\n",
    "                                                                         \"histI_etmiss\", \"histI_mt\", \"histI_n_jets\", \"histI_n_bjets\"};\n",
    "                            int length_global_pre = arraysize(names_of_global_variable_pre);\n",
    "                            for (unsigned int j=0; j<length_global_pre; j++ ){\n",
    "                                FillHistogramsGlobal(names_of_global_variable_pre[j], weight , histonames_of_global_variable_pre[j]);\n",
    "                            }\n",
    "                           \n",
    "                            \n",
    "                            //  remove low mass meson resonances and DY events; ggF regions, at least 1 jet\n",
    "                            if ( (mLL > 10) && (goodjet_n <= 1) && (MET > 20) ){\n",
    "                                \n",
    "                                if (mLL < 55){\n",
    "                                    \n",
    "                                    if (ptLL > 30){\n",
    "                                        \n",
    "                                        if (dPhi_LL < 1.8){\n",
    "                                            \n",
    "                                            if (dPhiLLmet > TMath::Pi()/2){\n",
    "                                                \n",
    "                                                if (goodbjet_n ==0){\n",
    "                                                    \n",
    "                                                    \n",
    "                                                    //Start to fill histograms : definitions of x-axis variables\n",
    "                                                    \n",
    "                                                    double names_of_global_variable[]={mLL, ptLL, dPhi_LL, dPhiLLmet, MET, mt, (double)goodjet_n,\n",
    "                                                                                       (double)goodbjet_n};\n",
    "                                                    double names_of_leadlep_variable[]={Lepton_1.Pt(), Lepton_1.Eta(), Lepton_1.E(), Lepton_1.Phi(),\n",
    "                                                                                        (double)lep_charge[goodlep1_index], (double)lep_type[goodlep1_index]};\n",
    "                                                    double names_of_subleadlep_variable[]={Lepton_2.Pt(), Lepton_2.Eta(), Lepton_2.E(), Lepton_2.Phi(),\n",
    "                                                                                           (double)lep_charge[goodlep2_index], (double)lep_type[goodlep2_index]};\n",
    "                                                    \n",
    "                                                    //Start to fill histograms : definitions of histogram names\n",
    "                                                    \n",
    "                                                    TString histonames_of_global_variable[]={\"hist_mLL\", \"hist_ptLL\", \"hist_dPhi_LL\", \"hist_dPhiLLmet\",\n",
    "                                                                                             \"hist_etmiss\", \"hist_mt\", \"hist_n_jets\", \"hist_n_bjets\"};\n",
    "                                                    TString histonames_of_leadlep_variable[]={\"hist_leadleptpt\", \"hist_leadlepteta\", \"hist_leadleptE\",\n",
    "                                                                                              \"hist_leadleptphi\", \"hist_leadleptch\", \"hist_leadleptID\"};\n",
    "                                                    TString histonames_of_subleadlep_variable[]={\"hist_subleadleptpt\", \"hist_subleadlepteta\", \"hist_subleadleptE\",\n",
    "                                                                                                 \"hist_subleadleptphi\", \"hist_subleadleptch\", \"hist_subleadleptID\"};\n",
    "                                                    int length_global = arraysize(names_of_global_variable);\n",
    "                                                    int length_leadlep = arraysize(names_of_leadlep_variable);\n",
    "                                                    int length_subleadlep = arraysize(names_of_subleadlep_variable);\n",
    "                                                    \n",
    "                                                    // Fill histograms\n",
    "                                                    \n",
    "                                                    for (unsigned int j=0; j<length_global; j++){\n",
    "                                                        FillHistogramsGlobal(names_of_global_variable[j], weight , histonames_of_global_variable[j]);\n",
    "                                                    }\n",
    "                                                    \n",
    "                                                    for (unsigned int j=0; j<length_leadlep; j++){\n",
    "                                                        FillHistogramsLeadlept(names_of_leadlep_variable[j], weight , histonames_of_leadlep_variable[j]);\n",
    "                                                    }\n",
    "                                                    \n",
    "                                                    for (unsigned int j=0; j<length_subleadlep; j++){\n",
    "                                                        FillHistogramsSubleadlept(names_of_subleadlep_variable[j], weight, histonames_of_subleadlep_variable[j]);\n",
    "                                                    }\n",
    "                                                    \n",
    "                                                }\n",
    "                                            }\n",
    "                                        }\n",
    "                                    }\n",
    "                                }\n",
    "                            }\n",
    "                        }\n",
    "                    }\n",
    "                }\n",
    "            }\n",
    "        }\n",
    "    }\n",
    "    \n",
    "    // Analysis results are saved\n",
    "    Terminate(sample[i]);\n",
    "    \n",
    "    //reset the histograms\n",
    "    reset_histograms();\n",
    "    \n",
    "    // Reset fchain\n",
    "    fchain->Reset();\n",
    "}"
   ]
  },
  {
   "cell_type": "markdown",
   "metadata": {},
   "source": [
    "-------------\n",
    "Después de analizar dataA.root, dataB.root, dataC.root y dataD.root, se deben agragar las muestras con el comando: hadd data.root dataA.root dataB.root dataC.root dataD.root"
   ]
  },
  {
   "cell_type": "code",
   "execution_count": 8,
   "metadata": {},
   "outputs": [
    {
     "name": "stdout",
     "output_type": "stream",
     "text": [
      "hadd Target file: data.root\n",
      "hadd compression setting for all output: 1\n",
      "hadd Source file 1: dataA.root\n",
      "hadd Source file 2: dataB.root\n",
      "hadd Source file 3: dataC.root\n",
      "hadd Source file 4: dataD.root\n",
      "hadd Target path: data.root:/\n"
     ]
    }
   ],
   "source": [
    "if (fileExists(\"Analysis/Output_HWWAnalysis/data.root\") != true){\n",
    "    if ((fileExists(\"Analysis/Output_HWWAnalysis/dataA.root\") == true) &&\n",
    "       (fileExists(\"Analysis/Output_HWWAnalysis/dataB.root\") == true)  &&\n",
    "       (fileExists(\"Analysis/Output_HWWAnalysis/dataC.root\") == true)  &&\n",
    "       (fileExists(\"Analysis/Output_HWWAnalysis/dataD.root\") == true)) {\n",
    "           chdir(\"Analysis/Output_HWWAnalysis/\");\n",
    "           system(\"hadd data.root dataA.root dataB.root dataC.root dataD.root\");\n",
    "           chdir(\"../../\"); \n",
    "       }\n",
    "}"
   ]
  },
  {
   "cell_type": "markdown",
   "metadata": {},
   "source": [
    "--------------\n",
    "<h3>Plotting</h3>"
   ]
  },
  {
   "cell_type": "markdown",
   "metadata": {},
   "source": [
    "Vamos a incluir cabeceras y funciones creadas para obtener los plots finales"
   ]
  },
  {
   "cell_type": "code",
   "execution_count": 9,
   "metadata": {},
   "outputs": [],
   "source": [
    "#include \"Plotting/Plotting.h\"\n",
    "#include \"Plotting/Plotting.C\""
   ]
  },
  {
   "cell_type": "markdown",
   "metadata": {},
   "source": [
    "<p>Verificamos que existan los .root de cada muestra analizada (necesario para los plots finales)</p>"
   ]
  },
  {
   "cell_type": "code",
   "execution_count": 10,
   "metadata": {},
   "outputs": [],
   "source": [
    "sample.clear();\n",
    "array_samples(sample,0); //Returns all sample names\n",
    "bool file_exist = true;\n",
    "unsigned int n = 0;\n",
    "unsigned int m = sample.size();\n",
    "while ((file_exist == true) || (n != m)){\n",
    "    string name = sample[n];\n",
    "    string path = \"Analysis/Output_HWWAnalysis/\"+name+\".root\";\n",
    "    if (fileExists(path) != true){\n",
    "        file_exist = false;\n",
    "    }\n",
    "    n++;\n",
    "}"
   ]
  },
  {
   "cell_type": "code",
   "execution_count": 11,
   "metadata": {
    "scrolled": true
   },
   "outputs": [
    {
     "name": "stdout",
     "output_type": "stream",
     "text": [
      "Analysis option found, proceeding...\n",
      "Reading list of histograms from: Plotting/list_histos/HistoList_HWWAnalysis.txt \n",
      " \n",
      "Analysis: HWWAnalysis, reading input from: Plotting/inputfiles/Files_HWW.txt \n",
      " \n",
      "Reading files from: Analysis/Output_HWWAnalysis \n",
      " \n",
      "=====processing HWWAnalysis=====\n",
      "\n",
      "\n",
      "Plotting histogram: histI_dPhiLLmet\n"
     ]
    },
    {
     "name": "stderr",
     "output_type": "stream",
     "text": [
      "Info in <TCanvas::Print>: png file Plotting/histograms/histI_dPhiLLmet.png has been created\n",
      "Info in <TCanvas::Print>: pdf file Plotting/histograms/histI_dPhiLLmet.pdf has been created\n"
     ]
    },
    {
     "name": "stdout",
     "output_type": "stream",
     "text": [
      "Plotting histogram: histI_dPhi_LL\n"
     ]
    },
    {
     "name": "stderr",
     "output_type": "stream",
     "text": [
      "Info in <TCanvas::SaveAs>: ROOT file Plotting/histograms/histI_dPhiLLmet.root has been created\n",
      "Info in <TCanvas::Print>: png file Plotting/histograms/histI_dPhi_LL.png has been created\n",
      "Info in <TCanvas::Print>: pdf file Plotting/histograms/histI_dPhi_LL.pdf has been created\n"
     ]
    },
    {
     "name": "stdout",
     "output_type": "stream",
     "text": [
      "Plotting histogram: histI_etmiss\n"
     ]
    },
    {
     "name": "stderr",
     "output_type": "stream",
     "text": [
      "Info in <TCanvas::SaveAs>: ROOT file Plotting/histograms/histI_dPhi_LL.root has been created\n",
      "Info in <TCanvas::Print>: png file Plotting/histograms/histI_etmiss.png has been created\n",
      "Info in <TCanvas::Print>: pdf file Plotting/histograms/histI_etmiss.pdf has been created\n"
     ]
    },
    {
     "name": "stdout",
     "output_type": "stream",
     "text": [
      "Plotting histogram: histI_mLL\n"
     ]
    },
    {
     "name": "stderr",
     "output_type": "stream",
     "text": [
      "Info in <TCanvas::SaveAs>: ROOT file Plotting/histograms/histI_etmiss.root has been created\n",
      "Info in <TCanvas::Print>: png file Plotting/histograms/histI_mLL.png has been created\n",
      "Info in <TCanvas::Print>: pdf file Plotting/histograms/histI_mLL.pdf has been created\n"
     ]
    },
    {
     "name": "stdout",
     "output_type": "stream",
     "text": [
      "Plotting histogram: histI_mt\n"
     ]
    },
    {
     "name": "stderr",
     "output_type": "stream",
     "text": [
      "Info in <TCanvas::SaveAs>: ROOT file Plotting/histograms/histI_mLL.root has been created\n",
      "Info in <TCanvas::Print>: png file Plotting/histograms/histI_mt.png has been created\n",
      "Info in <TCanvas::Print>: pdf file Plotting/histograms/histI_mt.pdf has been created\n"
     ]
    },
    {
     "name": "stdout",
     "output_type": "stream",
     "text": [
      "Plotting histogram: histI_n_bjets\n"
     ]
    },
    {
     "name": "stderr",
     "output_type": "stream",
     "text": [
      "Info in <TCanvas::SaveAs>: ROOT file Plotting/histograms/histI_mt.root has been created\n",
      "Info in <TCanvas::Print>: png file Plotting/histograms/histI_n_bjets.png has been created\n",
      "Info in <TCanvas::Print>: pdf file Plotting/histograms/histI_n_bjets.pdf has been created\n"
     ]
    },
    {
     "name": "stdout",
     "output_type": "stream",
     "text": [
      "Plotting histogram: histI_n_jets\n"
     ]
    },
    {
     "name": "stderr",
     "output_type": "stream",
     "text": [
      "Info in <TCanvas::SaveAs>: ROOT file Plotting/histograms/histI_n_bjets.root has been created\n",
      "Info in <TCanvas::Print>: png file Plotting/histograms/histI_n_jets.png has been created\n",
      "Info in <TCanvas::Print>: pdf file Plotting/histograms/histI_n_jets.pdf has been created\n"
     ]
    },
    {
     "name": "stdout",
     "output_type": "stream",
     "text": [
      "Plotting histogram: histI_ptLL\n"
     ]
    },
    {
     "name": "stderr",
     "output_type": "stream",
     "text": [
      "Info in <TCanvas::SaveAs>: ROOT file Plotting/histograms/histI_n_jets.root has been created\n",
      "Info in <TCanvas::Print>: png file Plotting/histograms/histI_ptLL.png has been created\n",
      "Info in <TCanvas::Print>: pdf file Plotting/histograms/histI_ptLL.pdf has been created\n"
     ]
    },
    {
     "name": "stdout",
     "output_type": "stream",
     "text": [
      "Plotting histogram: hist_dPhiLLmet\n"
     ]
    },
    {
     "name": "stderr",
     "output_type": "stream",
     "text": [
      "Info in <TCanvas::SaveAs>: ROOT file Plotting/histograms/histI_ptLL.root has been created\n",
      "Info in <TCanvas::Print>: png file Plotting/histograms/hist_dPhiLLmet.png has been created\n",
      "Info in <TCanvas::Print>: pdf file Plotting/histograms/hist_dPhiLLmet.pdf has been created\n"
     ]
    },
    {
     "name": "stdout",
     "output_type": "stream",
     "text": [
      "Plotting histogram: hist_dPhi_LL\n"
     ]
    },
    {
     "name": "stderr",
     "output_type": "stream",
     "text": [
      "Info in <TCanvas::SaveAs>: ROOT file Plotting/histograms/hist_dPhiLLmet.root has been created\n",
      "Info in <TCanvas::Print>: png file Plotting/histograms/hist_dPhi_LL.png has been created\n",
      "Info in <TCanvas::Print>: pdf file Plotting/histograms/hist_dPhi_LL.pdf has been created\n"
     ]
    },
    {
     "name": "stdout",
     "output_type": "stream",
     "text": [
      "Plotting histogram: hist_etmiss\n"
     ]
    },
    {
     "name": "stderr",
     "output_type": "stream",
     "text": [
      "Info in <TCanvas::SaveAs>: ROOT file Plotting/histograms/hist_dPhi_LL.root has been created\n",
      "Info in <TCanvas::Print>: png file Plotting/histograms/hist_etmiss.png has been created\n",
      "Info in <TCanvas::Print>: pdf file Plotting/histograms/hist_etmiss.pdf has been created\n"
     ]
    },
    {
     "name": "stdout",
     "output_type": "stream",
     "text": [
      "Plotting histogram: hist_leadleptE\n"
     ]
    },
    {
     "name": "stderr",
     "output_type": "stream",
     "text": [
      "Info in <TCanvas::SaveAs>: ROOT file Plotting/histograms/hist_etmiss.root has been created\n",
      "Info in <TCanvas::Print>: png file Plotting/histograms/hist_leadleptE.png has been created\n",
      "Info in <TCanvas::Print>: pdf file Plotting/histograms/hist_leadleptE.pdf has been created\n"
     ]
    },
    {
     "name": "stdout",
     "output_type": "stream",
     "text": [
      "Plotting histogram: hist_leadleptID\n"
     ]
    },
    {
     "name": "stderr",
     "output_type": "stream",
     "text": [
      "Info in <TCanvas::SaveAs>: ROOT file Plotting/histograms/hist_leadleptE.root has been created\n",
      "Info in <TCanvas::Print>: png file Plotting/histograms/hist_leadleptID.png has been created\n",
      "Info in <TCanvas::Print>: pdf file Plotting/histograms/hist_leadleptID.pdf has been created\n"
     ]
    },
    {
     "name": "stdout",
     "output_type": "stream",
     "text": [
      "Plotting histogram: hist_leadleptch\n"
     ]
    },
    {
     "name": "stderr",
     "output_type": "stream",
     "text": [
      "Info in <TCanvas::SaveAs>: ROOT file Plotting/histograms/hist_leadleptID.root has been created\n",
      "Info in <TCanvas::Print>: png file Plotting/histograms/hist_leadleptch.png has been created\n",
      "Info in <TCanvas::Print>: pdf file Plotting/histograms/hist_leadleptch.pdf has been created\n"
     ]
    },
    {
     "name": "stdout",
     "output_type": "stream",
     "text": [
      "Plotting histogram: hist_leadlepteta\n"
     ]
    },
    {
     "name": "stderr",
     "output_type": "stream",
     "text": [
      "Info in <TCanvas::SaveAs>: ROOT file Plotting/histograms/hist_leadleptch.root has been created\n",
      "Info in <TCanvas::Print>: png file Plotting/histograms/hist_leadlepteta.png has been created\n",
      "Info in <TCanvas::Print>: pdf file Plotting/histograms/hist_leadlepteta.pdf has been created\n"
     ]
    },
    {
     "name": "stdout",
     "output_type": "stream",
     "text": [
      "Plotting histogram: hist_leadleptphi\n"
     ]
    },
    {
     "name": "stderr",
     "output_type": "stream",
     "text": [
      "Info in <TCanvas::SaveAs>: ROOT file Plotting/histograms/hist_leadlepteta.root has been created\n",
      "Info in <TCanvas::Print>: png file Plotting/histograms/hist_leadleptphi.png has been created\n",
      "Info in <TCanvas::Print>: pdf file Plotting/histograms/hist_leadleptphi.pdf has been created\n"
     ]
    },
    {
     "name": "stdout",
     "output_type": "stream",
     "text": [
      "Plotting histogram: hist_leadleptpt\n"
     ]
    },
    {
     "name": "stderr",
     "output_type": "stream",
     "text": [
      "Info in <TCanvas::SaveAs>: ROOT file Plotting/histograms/hist_leadleptphi.root has been created\n",
      "Info in <TCanvas::Print>: png file Plotting/histograms/hist_leadleptpt.png has been created\n",
      "Info in <TCanvas::Print>: pdf file Plotting/histograms/hist_leadleptpt.pdf has been created\n"
     ]
    },
    {
     "name": "stdout",
     "output_type": "stream",
     "text": [
      "Plotting histogram: hist_mLL\n"
     ]
    },
    {
     "name": "stderr",
     "output_type": "stream",
     "text": [
      "Info in <TCanvas::SaveAs>: ROOT file Plotting/histograms/hist_leadleptpt.root has been created\n",
      "Info in <TCanvas::Print>: png file Plotting/histograms/hist_mLL.png has been created\n",
      "Info in <TCanvas::Print>: pdf file Plotting/histograms/hist_mLL.pdf has been created\n"
     ]
    },
    {
     "name": "stdout",
     "output_type": "stream",
     "text": [
      "Plotting histogram: hist_mt\n"
     ]
    },
    {
     "name": "stderr",
     "output_type": "stream",
     "text": [
      "Info in <TCanvas::SaveAs>: ROOT file Plotting/histograms/hist_mLL.root has been created\n",
      "Info in <TCanvas::Print>: png file Plotting/histograms/hist_mt.png has been created\n",
      "Info in <TCanvas::Print>: pdf file Plotting/histograms/hist_mt.pdf has been created\n"
     ]
    },
    {
     "name": "stdout",
     "output_type": "stream",
     "text": [
      "Plotting histogram: hist_n_bjets\n"
     ]
    },
    {
     "name": "stderr",
     "output_type": "stream",
     "text": [
      "Info in <TCanvas::SaveAs>: ROOT file Plotting/histograms/hist_mt.root has been created\n",
      "Info in <TCanvas::Print>: png file Plotting/histograms/hist_n_bjets.png has been created\n",
      "Info in <TCanvas::Print>: pdf file Plotting/histograms/hist_n_bjets.pdf has been created\n"
     ]
    },
    {
     "name": "stdout",
     "output_type": "stream",
     "text": [
      "Plotting histogram: hist_n_jets\n"
     ]
    },
    {
     "name": "stderr",
     "output_type": "stream",
     "text": [
      "Info in <TCanvas::SaveAs>: ROOT file Plotting/histograms/hist_n_bjets.root has been created\n",
      "Info in <TCanvas::Print>: png file Plotting/histograms/hist_n_jets.png has been created\n",
      "Info in <TCanvas::Print>: pdf file Plotting/histograms/hist_n_jets.pdf has been created\n"
     ]
    },
    {
     "name": "stdout",
     "output_type": "stream",
     "text": [
      "Plotting histogram: hist_ptLL\n"
     ]
    },
    {
     "name": "stderr",
     "output_type": "stream",
     "text": [
      "Info in <TCanvas::SaveAs>: ROOT file Plotting/histograms/hist_n_jets.root has been created\n",
      "Info in <TCanvas::Print>: png file Plotting/histograms/hist_ptLL.png has been created\n",
      "Info in <TCanvas::Print>: pdf file Plotting/histograms/hist_ptLL.pdf has been created\n"
     ]
    },
    {
     "name": "stdout",
     "output_type": "stream",
     "text": [
      "Plotting histogram: hist_subleadleptE\n"
     ]
    },
    {
     "name": "stderr",
     "output_type": "stream",
     "text": [
      "Info in <TCanvas::SaveAs>: ROOT file Plotting/histograms/hist_ptLL.root has been created\n",
      "Info in <TCanvas::Print>: png file Plotting/histograms/hist_subleadleptE.png has been created\n",
      "Info in <TCanvas::Print>: pdf file Plotting/histograms/hist_subleadleptE.pdf has been created\n"
     ]
    },
    {
     "name": "stdout",
     "output_type": "stream",
     "text": [
      "Plotting histogram: hist_subleadleptID\n"
     ]
    },
    {
     "name": "stderr",
     "output_type": "stream",
     "text": [
      "Info in <TCanvas::SaveAs>: ROOT file Plotting/histograms/hist_subleadleptE.root has been created\n",
      "Info in <TCanvas::Print>: png file Plotting/histograms/hist_subleadleptID.png has been created\n",
      "Info in <TCanvas::Print>: pdf file Plotting/histograms/hist_subleadleptID.pdf has been created\n"
     ]
    },
    {
     "name": "stdout",
     "output_type": "stream",
     "text": [
      "Plotting histogram: hist_subleadleptch\n"
     ]
    },
    {
     "name": "stderr",
     "output_type": "stream",
     "text": [
      "Info in <TCanvas::SaveAs>: ROOT file Plotting/histograms/hist_subleadleptID.root has been created\n",
      "Info in <TCanvas::Print>: png file Plotting/histograms/hist_subleadleptch.png has been created\n",
      "Info in <TCanvas::Print>: pdf file Plotting/histograms/hist_subleadleptch.pdf has been created\n"
     ]
    },
    {
     "name": "stdout",
     "output_type": "stream",
     "text": [
      "Plotting histogram: hist_subleadlepteta\n"
     ]
    },
    {
     "name": "stderr",
     "output_type": "stream",
     "text": [
      "Info in <TCanvas::SaveAs>: ROOT file Plotting/histograms/hist_subleadleptch.root has been created\n",
      "Info in <TCanvas::Print>: png file Plotting/histograms/hist_subleadlepteta.png has been created\n",
      "Info in <TCanvas::Print>: pdf file Plotting/histograms/hist_subleadlepteta.pdf has been created\n"
     ]
    },
    {
     "name": "stdout",
     "output_type": "stream",
     "text": [
      "Plotting histogram: hist_subleadleptphi\n"
     ]
    },
    {
     "name": "stderr",
     "output_type": "stream",
     "text": [
      "Info in <TCanvas::SaveAs>: ROOT file Plotting/histograms/hist_subleadlepteta.root has been created\n",
      "Info in <TCanvas::Print>: png file Plotting/histograms/hist_subleadleptphi.png has been created\n",
      "Info in <TCanvas::Print>: pdf file Plotting/histograms/hist_subleadleptphi.pdf has been created\n"
     ]
    },
    {
     "name": "stdout",
     "output_type": "stream",
     "text": [
      "Plotting histogram: hist_subleadleptpt\n"
     ]
    },
    {
     "name": "stderr",
     "output_type": "stream",
     "text": [
      "Info in <TCanvas::SaveAs>: ROOT file Plotting/histograms/hist_subleadleptphi.root has been created\n",
      "Info in <TCanvas::Print>: png file Plotting/histograms/hist_subleadleptpt.png has been created\n",
      "Info in <TCanvas::Print>: pdf file Plotting/histograms/hist_subleadleptpt.pdf has been created\n",
      "Info in <TCanvas::SaveAs>: ROOT file Plotting/histograms/hist_subleadleptpt.root has been created\n"
     ]
    }
   ],
   "source": [
    "if (file_exist){\n",
    "    unsigned int l = 10064;   //luminosity\n",
    "    string path = \"Analysis/Output_HWWAnalysis\";\n",
    "    Plotting *m = new Plotting();\n",
    "    m->SetLumi(l);\n",
    "    m->SetOption(\"HWWAnalysis\");\n",
    "    m->SetInputLocation(path);\n",
    "    m->run();\n",
    "}"
   ]
  }
 ],
 "metadata": {
  "kernelspec": {
   "display_name": "ROOT C++",
   "language": "c++",
   "name": "root"
  },
  "language_info": {
   "codemirror_mode": "text/x-c++src",
   "file_extension": ".C",
   "mimetype": " text/x-c++src",
   "name": "c++"
  }
 },
 "nbformat": 4,
 "nbformat_minor": 2
}
